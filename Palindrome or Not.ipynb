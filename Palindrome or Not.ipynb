{
 "cells": [
  {
   "cell_type": "markdown",
   "id": "4aacb3b6",
   "metadata": {},
   "source": [
    "### Writing a code to check , whether a number is palindrome or not"
   ]
  },
  {
   "cell_type": "code",
   "execution_count": 10,
   "id": "10c84b2e",
   "metadata": {},
   "outputs": [
    {
     "name": "stdout",
     "output_type": "stream",
     "text": [
      "Please enter the Number144\n"
     ]
    },
    {
     "data": {
      "text/plain": [
       "False"
      ]
     },
     "execution_count": 10,
     "metadata": {},
     "output_type": "execute_result"
    }
   ],
   "source": [
    "# defining the user input - user can give the input\n",
    "\n",
    "Number = str(input(\"Please enter the Number\")) # taking number as input and conveting to string, because it is applied only on string data\n",
    "\n",
    "# defining the function\n",
    "\n",
    "def palindrome(Number):                     # defining the function\n",
    "    if(Number == Number[::-1]):             # checking the condition, if forward order is equal to reverse order or not\n",
    "        return True                         # if condition is true, it prints True\n",
    "    else:\n",
    "        return False                        # if condition is False, it print False\n",
    "    \n",
    "palindrome(Number)"
   ]
  },
  {
   "cell_type": "markdown",
   "id": "46273a80",
   "metadata": {},
   "source": [
    "## checking whether string is palindrome or not"
   ]
  },
  {
   "cell_type": "code",
   "execution_count": 11,
   "id": "62c40131",
   "metadata": {},
   "outputs": [
    {
     "name": "stdout",
     "output_type": "stream",
     "text": [
      "Please enter the Stringlele\n"
     ]
    },
    {
     "data": {
      "text/plain": [
       "False"
      ]
     },
     "execution_count": 11,
     "metadata": {},
     "output_type": "execute_result"
    }
   ],
   "source": [
    "# defining the user input - user can give the input\n",
    "\n",
    "String = str(input(\"Please enter the String\"))  # taking string as input from the user\n",
    "\n",
    "# defining the function\n",
    "\n",
    "def palindrome(String):                      # defining the function\n",
    "    if(String == String[::-1]):              # checking the condition, if forward order is equal to reverse order or not\n",
    "        return True                           # if condition is true, it prints True\n",
    "    else:\n",
    "        return False                          # if condition is False, it print False\n",
    "    \n",
    "palindrome(String)"
   ]
  },
  {
   "cell_type": "code",
   "execution_count": null,
   "id": "33540d18",
   "metadata": {},
   "outputs": [],
   "source": []
  }
 ],
 "metadata": {
  "kernelspec": {
   "display_name": "Python 3 (ipykernel)",
   "language": "python",
   "name": "python3"
  },
  "language_info": {
   "codemirror_mode": {
    "name": "ipython",
    "version": 3
   },
   "file_extension": ".py",
   "mimetype": "text/x-python",
   "name": "python",
   "nbconvert_exporter": "python",
   "pygments_lexer": "ipython3",
   "version": "3.9.12"
  },
  "vp": {
   "vp_config_version": "1.0.0",
   "vp_menu_width": 273,
   "vp_note_display": false,
   "vp_note_width": 0,
   "vp_position": {
    "width": 278
   },
   "vp_section_display": false,
   "vp_signature": "VisualPython"
  }
 },
 "nbformat": 4,
 "nbformat_minor": 5
}
